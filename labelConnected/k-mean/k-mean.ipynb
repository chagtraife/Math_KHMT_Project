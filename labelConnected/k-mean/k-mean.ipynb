{
  "nbformat": 4,
  "nbformat_minor": 0,
  "metadata": {
    "colab": {
      "provenance": [],
      "collapsed_sections": []
    },
    "kernelspec": {
      "name": "python3",
      "display_name": "Python 3"
    },
    "language_info": {
      "name": "python"
    }
  },
  "cells": [
    {
      "cell_type": "code",
      "execution_count": 1,
      "metadata": {
        "colab": {
          "base_uri": "https://localhost:8080/"
        },
        "id": "cWRB59Az6KfL",
        "outputId": "3dac6b8c-6b53-4e26-fe2d-accd5a5fc833"
      },
      "outputs": [
        {
          "output_type": "stream",
          "name": "stdout",
          "text": [
            "Drive already mounted at /content/drive; to attempt to forcibly remount, call drive.mount(\"/content/drive\", force_remount=True).\n"
          ]
        }
      ],
      "source": [
        "from google.colab import drive\n",
        "drive.mount('/content/drive')\n",
        "\n",
        "import cv2\n",
        "import matplotlib.image as mpimg\n",
        "import matplotlib.pyplot as plt\n",
        "import numpy as np\n",
        "from sklearn.cluster import KMeans"
      ]
    },
    {
      "cell_type": "code",
      "source": [
        "def findPosition(label, h, w, firstpixel):\n",
        "  idxA = [0,1]\n",
        "  idx = label[0] if firstpixel else idxA[label[0]-1]\n",
        "  p = []\n",
        "  for i in range(h):\n",
        "    for j in range(w):\n",
        "      if label[i*w + j] == idxA[idx] and ((j == 0 and i == 0) or (i == 0 and j > 0 and label[i*w + j - 1] == idxA[idx-1]) or (j == 0 and i > 0 and label[(i - 1)*w + j] == idxA[idx-1]) or (label[i*w + j - 1] == idxA[idx-1] and label[(i - 1)*w + j] == idxA[idx-1])):\n",
        "        p.append([j + 10,i + 30])\n",
        "  return p\n",
        "\n",
        "def addTextImage(resPosition, img):\n",
        "  imageText = img.copy()\n",
        "  for i in range(len(resPosition)):\n",
        "    text = str(i)\n",
        "    #org: Where you want to put the text\n",
        "    org = resPosition[i]\n",
        "    # write the text on the input image\n",
        "    cv2.putText(imageText, text, org, fontFace = cv2.FONT_HERSHEY_COMPLEX, fontScale = 1, color = (255,0,0))\n",
        "  return imageText"
      ],
      "metadata": {
        "id": "Cy69k4IJIDZT"
      },
      "execution_count": 2,
      "outputs": []
    },
    {
      "cell_type": "code",
      "source": [
        "#KMeans algo\n",
        "img0 = mpimg.imread('/content/drive/MyDrive/CSToan/shape2.png')\n",
        "plt.imshow(img0)\n",
        "imgplot = plt.imshow(img0)\n",
        "plt.axis('off')\n",
        "plt.show()\n",
        "\n",
        "X = img0.reshape((img0.shape[0]*img0.shape[1], img0.shape[2]))\n",
        "K=2\n",
        "kmeans = KMeans(n_clusters=K).fit(X)\n",
        "label = kmeans.predict(X)\n",
        "img4 = np.zeros_like(X)\n",
        "for k in range(K):\n",
        "    img4[label == k] = kmeans.cluster_centers_[k]\n",
        "imageText = img4.reshape((img0.shape[0], img0.shape[1], img0.shape[2]))\n",
        "\n",
        "#find Positions\n",
        "resPosition = findPosition(label, img0.shape[0], img0.shape[1], firstpixel = False)\n",
        "#let's write the text you want to put on the image\n",
        "resImage = addTextImage(resPosition, imageText)\n",
        "\n",
        "# display the output image with text over it\n",
        "plt.imshow(resImage)\n",
        "plt.axis('off')\n",
        "plt.show()"
      ],
      "metadata": {
        "colab": {
          "base_uri": "https://localhost:8080/",
          "height": 438
        },
        "id": "ODOYZ55_6yvC",
        "outputId": "a495bcea-0b6a-4170-ba84-f79308fc0fbf"
      },
      "execution_count": null,
      "outputs": [
        {
          "output_type": "display_data",
          "data": {
            "text/plain": [
              "<Figure size 432x288 with 1 Axes>"
            ],
            "image/png": "[encoded data removed]"
          },
          "metadata": {
            "needs_background": "light"
          }
        },
        {
          "output_type": "stream",
          "name": "stderr",
          "text": [
            "WARNING:matplotlib.image:Clipping input data to the valid range for imshow with RGB data ([0..1] for floats or [0..255] for integers).\n"
          ]
        },
        {
          "output_type": "display_data",
          "data": {
            "text/plain": [
              "<Figure size 432x288 with 1 Axes>"
            ],
            "image/png": "[encoded data removed]"
          },
          "metadata": {
            "needs_background": "light"
          }
        }
      ]
    },
    {
      "cell_type": "code",
      "source": [
        "#KMeans algo\n",
        "img0 = mpimg.imread('/content/drive/MyDrive/CSToan/shape3.png')\n",
        "plt.imshow(img0)\n",
        "imgplot = plt.imshow(img0)\n",
        "plt.axis('off')\n",
        "plt.show()\n",
        "\n",
        "X = img0.reshape((img0.shape[0]*img0.shape[1], img0.shape[2]))\n",
        "K=2\n",
        "kmeans = KMeans(n_clusters=K).fit(X)\n",
        "label = kmeans.predict(X)\n",
        "img4 = np.zeros_like(X)\n",
        "for k in range(K):\n",
        "    img4[label == k] = kmeans.cluster_centers_[k]\n",
        "imageText = img4.reshape((img0.shape[0], img0.shape[1], img0.shape[2]))\n",
        "\n",
        "#find Positions\n",
        "resPosition = findPosition(label, img0.shape[0], img0.shape[1], firstpixel = True)\n",
        "#let's write the text you want to put on the image\n",
        "resImage = addTextImage(resPosition, imageText)\n",
        "\n",
        "# display the output image with text over it\n",
        "plt.imshow(resImage)\n",
        "plt.axis('off')\n",
        "plt.show()"
      ],
      "metadata": {
        "colab": {
          "base_uri": "https://localhost:8080/",
          "height": 438
        },
        "id": "mqqqwXX8vVux",
        "outputId": "fc047598-67a0-4680-fc5d-77060ce50afc"
      },
      "execution_count": null,
      "outputs": [
        {
          "output_type": "display_data",
          "data": {
            "text/plain": [
              "<Figure size 432x288 with 1 Axes>"
            ],
            "image/png": "[encoded data removed]"
          },
          "metadata": {
            "needs_background": "light"
          }
        },
        {
          "output_type": "stream",
          "name": "stderr",
          "text": [
            "WARNING:matplotlib.image:Clipping input data to the valid range for imshow with RGB data ([0..1] for floats or [0..255] for integers).\n"
          ]
        },
        {
          "output_type": "display_data",
          "data": {
            "text/plain": [
              "<Figure size 432x288 with 1 Axes>"
            ],
            "image/png": "[encoded data removed]"
          },
          "metadata": {
            "needs_background": "light"
          }
        }
      ]
    },
    {
      "cell_type": "code",
      "source": [
        "import cv2\n",
        "import matplotlib.pyplot as plt\n",
        "import numpy as np\n",
        "from sklearn.cluster import DBSCAN\n",
        "\n",
        "img0 = mpimg.imread('/content/drive/MyDrive/CSToan/shape2.png')\n",
        "gray = cv2.cvtColor(img0, cv2.COLOR_BGR2GRAY)\n",
        "# X = img0.reshape((img0.shape[0]*img0.shape[1], img0.shape[2]))\n",
        "X = np.float32(gray.reshape((img0.shape[0]*img0.shape[1], 1)))\n",
        "print(X.shape)\n",
        "\n",
        "clustering = DBSCAN(eps=0.01, min_samples=2).fit(X)\n",
        "clustering.labels_\n",
        "# plt.imshow(gray, cmap = 'gray')\n",
        "# plt.axis('off')\n",
        "# plt.show()\n"
      ],
      "metadata": {
        "id": "bazatKYzmDHi",
        "colab": {
          "base_uri": "https://localhost:8080/"
        },
        "outputId": "b6047432-3ecc-40dd-9b9f-6b062cc85d13"
      },
      "execution_count": null,
      "outputs": [
        {
          "output_type": "stream",
          "name": "stdout",
          "text": [
            "(746496, 1)\n"
          ]
        }
      ]
    },
    {
      "cell_type": "code",
      "source": [
        "import numpy as np\n",
        "import glob\n",
        "import matplotlib.pyplot as plt\n",
        "import skimage.io\n",
        "import skimage.color\n",
        "import skimage.filters\n",
        "import skimage.measure\n",
        "import cv2 as cv\n",
        "\n",
        "def hoshen_Kopelman(binaryImg):\n",
        "    # Raster Scan and Labeling on the Grid\n",
        "    largest_label = 0\n",
        "    n_rows = len(binaryImg)\n",
        "    n_columns = len(binaryImg[0])\n",
        "\n",
        "    label = np.zeros((n_rows, n_columns), dtype=int)\n",
        "    # print(n_columns*n_rows)\n",
        "    # print(n_columns)\n",
        "    # print(n_rows)\n",
        "    labels = list(range(0, n_columns*n_rows)) #Array containing integers from 0 to the size of the image.\n",
        "\n",
        "    # Find\n",
        "    def find(x):\n",
        "        y = x\n",
        "        while (labels[y] != y):\n",
        "            y = labels[y]\n",
        "        while (labels[x] != x):\n",
        "            z = labels[x]\n",
        "            labels[x] = y\n",
        "            x = z\n",
        "        return y\n",
        "\n",
        "    # Union\n",
        "    def union(x, y):\n",
        "        labels[find(x)] = find(y)\n",
        "\n",
        "    for x in range(0, n_rows):\n",
        "        for y in range(0, n_columns):\n",
        "            if (binaryImg[x, y] > 0):\n",
        "                left = label[x-1, y]\n",
        "                above = label[x, y-1]\n",
        "                if ((left == 0) and (above == 0)): # Neither a label above nor to the left.\n",
        "                    largest_label = largest_label + 1 # Make a new, as-yet-unused cluster label.\n",
        "                    label[x, y] = largest_label\n",
        "                elif ((left != 0) and (above == 0)): #One neighbor, to the left.\n",
        "                    label[x, y] = find(left)\n",
        "                elif ((left == 0) and (above != 0)): #One neighbor, above.\n",
        "                    label[x, y] = find(above)\n",
        "                else: # Neighbors BOTH to the left and above.\n",
        "                    union(left, above) # Link the left and above clusters.\n",
        "                    label[x, y] = find(left)\n",
        "\n",
        "    # print(\"largest_label: \")\n",
        "    # print(largest_label)\n",
        "    index_arr = [0]\n",
        "    index_arr[0] = find(0)\n",
        "    for i in range(largest_label):\n",
        "        if find(i) not in index_arr:\n",
        "            index_arr.append(labels[i])\n",
        "    \n",
        "    print(index_arr)\n",
        "    \n",
        "    idxImg = np.zeros((n_rows, n_columns), dtype=int)\n",
        "    for x in range(0, n_rows):\n",
        "        for y in range(0, n_columns):\n",
        "            if (label[x, y] > 0):\n",
        "                idxImg[x, y] = index_arr.index(find(label[x, y]))\n",
        "    return idxImg\n",
        "\n",
        "\n",
        "\n",
        "###############################################\n",
        "#load img\n",
        "img = cv.imread(\"/content/drive/MyDrive/CSToan/shape.jpeg\", 2)#cv.IMREAD_GRAYSCALE\n",
        "# print(img)\n",
        "# cv2_imshow(img)\n",
        "###############################################\n",
        "\n",
        "###############################################\n",
        "#filter noise\n",
        "img_blur = cv.blur(img, (20,20))\n",
        "###############################################\n",
        "\n",
        "###############################################\n",
        "#crop img\n",
        "img_blur_c = cv.resize(img_blur, (1022, 819))\n",
        "###############################################\n",
        "\n",
        "\n",
        "###############################################\n",
        "# convert rgb img to binary img 0 1\"\n",
        "binary_img = cv.inRange(img_blur_c, 0, 220)\n",
        "# cv.imshow(\"binary_img\", binary_img)\n",
        "# cv.waitKey(0)\n",
        "# cv.destroyAllWindows() \n",
        "for i, v1 in enumerate(binary_img):\n",
        "    for j, v2 in enumerate(v1):\n",
        "        if v2 == 255:\n",
        "            binary_img[i, j] = 1\n",
        "# print(binary_img)\n",
        "################################################\n",
        "\n",
        "label_img = hoshen_Kopelman(binary_img)\n",
        "\n",
        "plt.imshow(label_img, cmap=\"gray\")\n",
        "plt.axis(\"off\")\n",
        "plt.show()"
      ],
      "metadata": {
        "colab": {
          "base_uri": "https://localhost:8080/",
          "height": 265
        },
        "id": "E0rRxs0MIC67",
        "outputId": "6903d3a0-097d-41ef-d1c0-a671933e4725"
      },
      "execution_count": null,
      "outputs": [
        {
          "output_type": "stream",
          "name": "stdout",
          "text": [
            "[0, 35, 65, 71, 151, 233, 241, 192]\n"
          ]
        },
        {
          "output_type": "display_data",
          "data": {
            "text/plain": [
              "<Figure size 432x288 with 1 Axes>"
            ],
            "image/png": "[encoded data removed]"
          },
          "metadata": {
            "needs_background": "light"
          }
        }
      ]
    },
    {
      "cell_type": "code",
      "source": [],
      "metadata": {
        "id": "vcM4ibrBRThl"
      },
      "execution_count": null,
      "outputs": []
    }
  ]
}